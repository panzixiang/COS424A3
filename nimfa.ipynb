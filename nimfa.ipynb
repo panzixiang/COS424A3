{
 "cells": [
  {
   "cell_type": "code",
   "execution_count": null,
   "metadata": {
    "collapsed": true
   },
   "outputs": [],
   "source": [
    "%matplotlib inline\n",
    "%pylab inline\n",
    "pylab.rcParams['figure.figsize'] = (20, 5)\n",
    "\n",
    "import numpy as np\n",
    "import pandas as pd\n",
    "from sklearn.decomposition import TruncatedSVD\n",
    "from scipy.sparse import csr_matrix\n",
    "from scipy.sparse.linalg import svds\n",
    "from sklearn.metrics import roc_curve, auc\n",
    "\n",
    "dftrain = pd.read_csv('txTripletsCounts.txt',\n",
    "                      header=None,\n",
    "                      index_col=None,\n",
    "                      sep=' ',\n",
    "                      names=['sender','receiver','transaction'])\n",
    "dftrain['transaction'].describe()\n",
    "\n",
    "import nimfa\n",
    "\n",
    "#W=csr_matrix()\n",
    "\n",
    "snmf = nimfa.Snmf(csr_matrix(dftrain),seed=\"random_c\", rank=10, max_iter=12, version='r', eta=1.,\n",
    "                  beta=1e-4, i_conv=10, w_min_change=0)\n",
    "\n",
    "snmf.factorize()\n",
    "\n",
    "W=snmf.basis();\n",
    "H=snmf.coef();"
   ]
  }
 ],
 "metadata": {
  "kernelspec": {
   "display_name": "Python 2",
   "language": "python",
   "name": "python2"
  },
  "language_info": {
   "codemirror_mode": {
    "name": "ipython",
    "version": 2
   },
   "file_extension": ".py",
   "mimetype": "text/x-python",
   "name": "python",
   "nbconvert_exporter": "python",
   "pygments_lexer": "ipython2",
   "version": "2.7.10"
  }
 },
 "nbformat": 4,
 "nbformat_minor": 0
}
