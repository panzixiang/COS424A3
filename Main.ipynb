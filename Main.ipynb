{
 "cells": [
  {
   "cell_type": "code",
   "execution_count": 1,
   "metadata": {
    "collapsed": false
   },
   "outputs": [
    {
     "name": "stdout",
     "output_type": "stream",
     "text": [
      "Populating the interactive namespace from numpy and matplotlib\n"
     ]
    }
   ],
   "source": [
    "%matplotlib inline\n",
    "%pylab inline\n",
    "pylab.rcParams['figure.figsize'] = (20, 5)\n",
    "\n",
    "import numpy as np\n",
    "import pandas as pd\n",
    "from sklearn.decomposition import TruncatedSVD\n",
    "from scipy.sparse import csr_matrix\n",
    "from scipy.sparse.linalg import svds\n",
    "from sklearn.metrics import roc_curve, auc"
   ]
  },
  {
   "cell_type": "code",
   "execution_count": 2,
   "metadata": {
    "collapsed": false
   },
   "outputs": [
    {
     "data": {
      "text/plain": [
       "count    3348026.000000\n",
       "mean           4.725741\n",
       "std          128.494757\n",
       "min            1.000000\n",
       "25%            1.000000\n",
       "50%            1.000000\n",
       "75%            2.000000\n",
       "max        41639.000000\n",
       "Name: transaction, dtype: float64"
      ]
     },
     "execution_count": 2,
     "metadata": {},
     "output_type": "execute_result"
    }
   ],
   "source": [
    "dftrain = pd.read_csv('txTripletsCounts.txt',\n",
    "                      header=None,\n",
    "                      index_col=None,\n",
    "                      sep=' ',\n",
    "                      names=['sender','receiver','transaction'])\n",
    "dftrain['transaction'].describe()"
   ]
  },
  {
   "cell_type": "code",
   "execution_count": 3,
   "metadata": {
    "collapsed": false
   },
   "outputs": [],
   "source": [
    "import nimfa\n",
    "\n",
    "#W=csr_matrix()\n",
    "\n",
    "snmf = nimfa.Snmf(csr_matrix(dftrain),seed=\"random_c\", rank=10, max_iter=12, version='r', eta=1.,\n",
    "                  beta=1e-4, i_conv=10, w_min_change=0)"
   ]
  },
  {
   "cell_type": "code",
   "execution_count": 4,
   "metadata": {
    "collapsed": true
   },
   "outputs": [],
   "source": [
    "snmf.factorize()\n",
    "\n",
    "W=snmf.basis();\n",
    "H=snmf.coef();"
   ]
  },
  {
   "cell_type": "code",
   "execution_count": 6,
   "metadata": {
    "collapsed": false
   },
   "outputs": [
    {
     "name": "stdout",
     "output_type": "stream",
     "text": [
      "None\n"
     ]
    }
   ],
   "source": [
    "print(W)"
   ]
  },
  {
   "cell_type": "code",
   "execution_count": null,
   "metadata": {
    "collapsed": true
   },
   "outputs": [],
   "source": [
    "%matplotlib inline\n",
    "%pylab inline\n",
    "pylab.rcParams['figure.figsize'] = (20, 5)\n",
    "\n",
    "import numpy as np\n",
    "import pandas as pd\n",
    "from sklearn.decomposition import TruncatedSVD\n",
    "from scipy.sparse import csr_matrix\n",
    "from scipy.sparse.linalg import svds\n",
    "from sklearn.metrics import roc_curve, auc\n",
    "\n",
    "dftrain = pd.read_csv('txTripletsCounts.txt',\n",
    "                      header=None,\n",
    "                      index_col=None,\n",
    "                      sep=' ',\n",
    "                      names=['sender','receiver','transaction'])\n",
    "dftrain['transaction'].describe()\n",
    "\n",
    "import nimfa\n",
    "\n",
    "#W=csr_matrix()\n",
    "\n",
    "snmf = nimfa.Snmf(csr_matrix(dftrain),seed=\"random_c\", rank=10, max_iter=12, version='r', eta=1.,\n",
    "                  beta=1e-4, i_conv=10, w_min_change=0)\n",
    "\n",
    "snmf.factorize()\n",
    "\n",
    "W=snmf.basis();\n",
    "H=snmf.coef();"
   ]
  }
 ],
 "metadata": {
  "kernelspec": {
   "display_name": "Python 2",
   "language": "python",
   "name": "python2"
  },
  "language_info": {
   "codemirror_mode": {
    "name": "ipython",
    "version": 2
   },
   "file_extension": ".py",
   "mimetype": "text/x-python",
   "name": "python",
   "nbconvert_exporter": "python",
   "pygments_lexer": "ipython2",
   "version": "2.7.10"
  }
 },
 "nbformat": 4,
 "nbformat_minor": 0
}
